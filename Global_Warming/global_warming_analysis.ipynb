{
 "cells": [
  {
   "cell_type": "markdown",
   "metadata": {},
   "source": [
    "## Installing and dowloading libraries"
   ]
  },
  {
   "cell_type": "code",
   "execution_count": null,
   "metadata": {},
   "outputs": [],
   "source": [
    "#! pip install plotly\n",
    "#! pip install iso3166"
   ]
  },
  {
   "cell_type": "code",
   "execution_count": 7,
   "metadata": {},
   "outputs": [],
   "source": [
    "import numpy as np\n",
    "import pandas as pd\n",
    "import matplotlib.pyplot as plt\n",
    "import plotly.io as pio\n",
    "pio.renderers.default = 'browser'\n",
    "from iso3166 import countries"
   ]
  },
  {
   "cell_type": "markdown",
   "metadata": {},
   "source": [
    "## Downloading the file"
   ]
  },
  {
   "cell_type": "code",
   "execution_count": 8,
   "metadata": {},
   "outputs": [
    {
     "data": {
      "text/html": [
       "<div>\n",
       "<style scoped>\n",
       "    .dataframe tbody tr th:only-of-type {\n",
       "        vertical-align: middle;\n",
       "    }\n",
       "\n",
       "    .dataframe tbody tr th {\n",
       "        vertical-align: top;\n",
       "    }\n",
       "\n",
       "    .dataframe thead th {\n",
       "        text-align: right;\n",
       "    }\n",
       "</style>\n",
       "<table border=\"1\" class=\"dataframe\">\n",
       "  <thead>\n",
       "    <tr style=\"text-align: right;\">\n",
       "      <th></th>\n",
       "      <th>dt</th>\n",
       "      <th>AverageTemperature</th>\n",
       "      <th>AverageTemperatureUncertainty</th>\n",
       "      <th>Country</th>\n",
       "      <th>codes</th>\n",
       "    </tr>\n",
       "  </thead>\n",
       "  <tbody>\n",
       "    <tr>\n",
       "      <th>0</th>\n",
       "      <td>1743-11-01</td>\n",
       "      <td>4.384</td>\n",
       "      <td>2.294</td>\n",
       "      <td>Åland</td>\n",
       "      <td>0</td>\n",
       "    </tr>\n",
       "    <tr>\n",
       "      <th>1</th>\n",
       "      <td>1743-12-01</td>\n",
       "      <td>NaN</td>\n",
       "      <td>NaN</td>\n",
       "      <td>Åland</td>\n",
       "      <td>0</td>\n",
       "    </tr>\n",
       "    <tr>\n",
       "      <th>2</th>\n",
       "      <td>1744-01-01</td>\n",
       "      <td>NaN</td>\n",
       "      <td>NaN</td>\n",
       "      <td>Åland</td>\n",
       "      <td>0</td>\n",
       "    </tr>\n",
       "    <tr>\n",
       "      <th>3</th>\n",
       "      <td>1744-02-01</td>\n",
       "      <td>NaN</td>\n",
       "      <td>NaN</td>\n",
       "      <td>Åland</td>\n",
       "      <td>0</td>\n",
       "    </tr>\n",
       "    <tr>\n",
       "      <th>4</th>\n",
       "      <td>1744-03-01</td>\n",
       "      <td>NaN</td>\n",
       "      <td>NaN</td>\n",
       "      <td>Åland</td>\n",
       "      <td>0</td>\n",
       "    </tr>\n",
       "  </tbody>\n",
       "</table>\n",
       "</div>"
      ],
      "text/plain": [
       "           dt  AverageTemperature  AverageTemperatureUncertainty Country   \n",
       "0  1743-11-01               4.384                          2.294   Åland  \\\n",
       "1  1743-12-01                 NaN                            NaN   Åland   \n",
       "2  1744-01-01                 NaN                            NaN   Åland   \n",
       "3  1744-02-01                 NaN                            NaN   Åland   \n",
       "4  1744-03-01                 NaN                            NaN   Åland   \n",
       "\n",
       "   codes  \n",
       "0      0  \n",
       "1      0  \n",
       "2      0  \n",
       "3      0  \n",
       "4      0  "
      ]
     },
     "execution_count": 8,
     "metadata": {},
     "output_type": "execute_result"
    }
   ],
   "source": [
    "df = pd.read_csv('GlobalLandTemperaturesByCountry.csv')\n",
    "df['codes'] = 0\n",
    "df.head()\n"
   ]
  },
  {
   "cell_type": "markdown",
   "metadata": {},
   "source": [
    "### We need to obtain unique 3-letter code for every country to later make a plot on the map of earth"
   ]
  },
  {
   "cell_type": "markdown",
   "metadata": {},
   "source": [
    "#### Changing the name of some countries to make them correct for the iso3166 library"
   ]
  },
  {
   "cell_type": "code",
   "execution_count": 9,
   "metadata": {},
   "outputs": [],
   "source": [
    "df.loc[df['Country'] == 'Åland', 'Country'] = 'Åland Islands'\n",
    "df.loc[df['Country'] == 'Antigua And Barbuda', 'Country'] = 'Antigua and Barbuda'\n",
    "df.loc[df['Country'] == 'Bolivia', 'Country'] = 'Bolivia, Plurinational State of'\n",
    "df.loc[df['Country'] == 'United States', 'Country'] = 'United States of America'\n",
    "df.loc[df['Country'] == 'United Kingdom', 'Country'] = 'United Kingdom of Great Britain and Northern Ireland'\n",
    "df.loc[df['Country'] == 'Russia', 'Country'] = 'Russian Federation'\n",
    "df.loc[df['Country'] == 'Turkey', 'Country'] = 'Türkiye'\n",
    "df.loc[df['Country'] == 'Bosnia And Herzegovina', 'Country'] = 'Bosnia and Herzegovina'\n",
    "df.loc[df['Country'] == 'Congo (Democratic Republic Of The)', 'Country'] = 'Congo, Democratic Republic of the'\n",
    "df.loc[df['Country'] == \"Côte D'Ivoire\", 'Country'] = \"Côte d'Ivoire\"\n",
    "df.loc[df['Country'] == 'Czech Republic', 'Country'] = 'Czechia'\n",
    "df.loc[df['Country'] == 'Guinea Bissau', 'Country'] = 'Guinea-Bissau'\n",
    "df.loc[df['Country'] == 'Iran', 'Country'] = 'Iran, Islamic Republic of'\n",
    "df.loc[df['Country'] == 'North Korea', 'Country'] = \"Korea, Democratic People's Republic of\"\n",
    "df.loc[df['Country'] == 'South Korea', 'Country'] = 'Korea, Republic of'\n",
    "df.loc[df['Country'] == 'Laos', 'Country'] = \"Lao People's Democratic Republic\"\n",
    "df.loc[df['Country'] == \"Macedonia\", 'Country'] = \"North Macedonia\"\n",
    "df.loc[df['Country'] == \"Moldova\", 'Country'] = \"Moldova, Republic of\"\n",
    "df.loc[df['Country'] == \"Burma\", 'Country'] = \"Myanmar\"\n",
    "df.loc[df['Country'] == \"Syria\", 'Country'] = \"Syrian Arab Republic\"\n",
    "df.loc[df['Country'] == \"Tanzania\", 'Country'] = \"Tanzania, United Republic of\"\n",
    "df.loc[df['Country'] == \"Taiwan\", 'Country'] = \"Taiwan, Province of China\"\n",
    "df.loc[df['Country'] == \"Vietnam\", 'Country'] = \"Viet Nam\"\n",
    "df.loc[df['Country'] == \"Venezuela\", 'Country'] = \"Venezuela, Bolivarian Republic of\"\n",
    "df.loc[df['Country'] == \"Denmark\", 'Country'] = \"get rid of me please\" \n",
    "df.loc[df['Country'] == \"Denmark (Europe)\", 'Country'] = \"Denmark\"\n"
   ]
  },
  {
   "cell_type": "code",
   "execution_count": 10,
   "metadata": {},
   "outputs": [],
   "source": [
    "country_unique = df['Country'].unique()"
   ]
  },
  {
   "cell_type": "code",
   "execution_count": 11,
   "metadata": {},
   "outputs": [
    {
     "data": {
      "text/html": [
       "<div>\n",
       "<style scoped>\n",
       "    .dataframe tbody tr th:only-of-type {\n",
       "        vertical-align: middle;\n",
       "    }\n",
       "\n",
       "    .dataframe tbody tr th {\n",
       "        vertical-align: top;\n",
       "    }\n",
       "\n",
       "    .dataframe thead th {\n",
       "        text-align: right;\n",
       "    }\n",
       "</style>\n",
       "<table border=\"1\" class=\"dataframe\">\n",
       "  <thead>\n",
       "    <tr style=\"text-align: right;\">\n",
       "      <th></th>\n",
       "      <th>dt</th>\n",
       "      <th>AverageTemperature</th>\n",
       "      <th>AverageTemperatureUncertainty</th>\n",
       "      <th>Country</th>\n",
       "      <th>codes</th>\n",
       "    </tr>\n",
       "  </thead>\n",
       "  <tbody>\n",
       "    <tr>\n",
       "      <th>0</th>\n",
       "      <td>1743-11-01</td>\n",
       "      <td>4.384</td>\n",
       "      <td>2.294</td>\n",
       "      <td>Åland Islands</td>\n",
       "      <td>0</td>\n",
       "    </tr>\n",
       "    <tr>\n",
       "      <th>1</th>\n",
       "      <td>1743-12-01</td>\n",
       "      <td>NaN</td>\n",
       "      <td>NaN</td>\n",
       "      <td>Åland Islands</td>\n",
       "      <td>0</td>\n",
       "    </tr>\n",
       "    <tr>\n",
       "      <th>2</th>\n",
       "      <td>1744-01-01</td>\n",
       "      <td>NaN</td>\n",
       "      <td>NaN</td>\n",
       "      <td>Åland Islands</td>\n",
       "      <td>0</td>\n",
       "    </tr>\n",
       "    <tr>\n",
       "      <th>3</th>\n",
       "      <td>1744-02-01</td>\n",
       "      <td>NaN</td>\n",
       "      <td>NaN</td>\n",
       "      <td>Åland Islands</td>\n",
       "      <td>0</td>\n",
       "    </tr>\n",
       "    <tr>\n",
       "      <th>4</th>\n",
       "      <td>1744-03-01</td>\n",
       "      <td>NaN</td>\n",
       "      <td>NaN</td>\n",
       "      <td>Åland Islands</td>\n",
       "      <td>0</td>\n",
       "    </tr>\n",
       "  </tbody>\n",
       "</table>\n",
       "</div>"
      ],
      "text/plain": [
       "           dt  AverageTemperature  AverageTemperatureUncertainty   \n",
       "0  1743-11-01               4.384                          2.294  \\\n",
       "1  1743-12-01                 NaN                            NaN   \n",
       "2  1744-01-01                 NaN                            NaN   \n",
       "3  1744-02-01                 NaN                            NaN   \n",
       "4  1744-03-01                 NaN                            NaN   \n",
       "\n",
       "         Country  codes  \n",
       "0  Åland Islands      0  \n",
       "1  Åland Islands      0  \n",
       "2  Åland Islands      0  \n",
       "3  Åland Islands      0  \n",
       "4  Åland Islands      0  "
      ]
     },
     "execution_count": 11,
     "metadata": {},
     "output_type": "execute_result"
    }
   ],
   "source": [
    "df.head()"
   ]
  },
  {
   "cell_type": "code",
   "execution_count": 12,
   "metadata": {},
   "outputs": [
    {
     "data": {
      "text/html": [
       "<div>\n",
       "<style scoped>\n",
       "    .dataframe tbody tr th:only-of-type {\n",
       "        vertical-align: middle;\n",
       "    }\n",
       "\n",
       "    .dataframe tbody tr th {\n",
       "        vertical-align: top;\n",
       "    }\n",
       "\n",
       "    .dataframe thead th {\n",
       "        text-align: right;\n",
       "    }\n",
       "</style>\n",
       "<table border=\"1\" class=\"dataframe\">\n",
       "  <thead>\n",
       "    <tr style=\"text-align: right;\">\n",
       "      <th></th>\n",
       "      <th>dt</th>\n",
       "      <th>AverageTemperature</th>\n",
       "      <th>AverageTemperatureUncertainty</th>\n",
       "      <th>Country</th>\n",
       "      <th>codes</th>\n",
       "    </tr>\n",
       "  </thead>\n",
       "  <tbody>\n",
       "    <tr>\n",
       "      <th>577457</th>\n",
       "      <td>2013-05-01</td>\n",
       "      <td>19.059</td>\n",
       "      <td>1.022</td>\n",
       "      <td>Zimbabwe</td>\n",
       "      <td>ZWE</td>\n",
       "    </tr>\n",
       "    <tr>\n",
       "      <th>577458</th>\n",
       "      <td>2013-06-01</td>\n",
       "      <td>17.613</td>\n",
       "      <td>0.473</td>\n",
       "      <td>Zimbabwe</td>\n",
       "      <td>ZWE</td>\n",
       "    </tr>\n",
       "    <tr>\n",
       "      <th>577459</th>\n",
       "      <td>2013-07-01</td>\n",
       "      <td>17.000</td>\n",
       "      <td>0.453</td>\n",
       "      <td>Zimbabwe</td>\n",
       "      <td>ZWE</td>\n",
       "    </tr>\n",
       "    <tr>\n",
       "      <th>577460</th>\n",
       "      <td>2013-08-01</td>\n",
       "      <td>19.759</td>\n",
       "      <td>0.717</td>\n",
       "      <td>Zimbabwe</td>\n",
       "      <td>ZWE</td>\n",
       "    </tr>\n",
       "    <tr>\n",
       "      <th>577461</th>\n",
       "      <td>2013-09-01</td>\n",
       "      <td>NaN</td>\n",
       "      <td>NaN</td>\n",
       "      <td>Zimbabwe</td>\n",
       "      <td>ZWE</td>\n",
       "    </tr>\n",
       "  </tbody>\n",
       "</table>\n",
       "</div>"
      ],
      "text/plain": [
       "                dt  AverageTemperature  AverageTemperatureUncertainty   \n",
       "577457  2013-05-01              19.059                          1.022  \\\n",
       "577458  2013-06-01              17.613                          0.473   \n",
       "577459  2013-07-01              17.000                          0.453   \n",
       "577460  2013-08-01              19.759                          0.717   \n",
       "577461  2013-09-01                 NaN                            NaN   \n",
       "\n",
       "         Country codes  \n",
       "577457  Zimbabwe   ZWE  \n",
       "577458  Zimbabwe   ZWE  \n",
       "577459  Zimbabwe   ZWE  \n",
       "577460  Zimbabwe   ZWE  \n",
       "577461  Zimbabwe   ZWE  "
      ]
     },
     "execution_count": 12,
     "metadata": {},
     "output_type": "execute_result"
    }
   ],
   "source": [
    "for c in countries:\n",
    "    condition = (df['Country'] == c.name)\n",
    "    df.loc[condition, 'codes'] = c.alpha3\n",
    "df.tail()"
   ]
  },
  {
   "cell_type": "markdown",
   "metadata": {},
   "source": [
    "### We do not need information about countries that do not figure in the iso database"
   ]
  },
  {
   "cell_type": "code",
   "execution_count": 13,
   "metadata": {},
   "outputs": [
    {
     "data": {
      "text/html": [
       "<div>\n",
       "<style scoped>\n",
       "    .dataframe tbody tr th:only-of-type {\n",
       "        vertical-align: middle;\n",
       "    }\n",
       "\n",
       "    .dataframe tbody tr th {\n",
       "        vertical-align: top;\n",
       "    }\n",
       "\n",
       "    .dataframe thead th {\n",
       "        text-align: right;\n",
       "    }\n",
       "</style>\n",
       "<table border=\"1\" class=\"dataframe\">\n",
       "  <thead>\n",
       "    <tr style=\"text-align: right;\">\n",
       "      <th></th>\n",
       "      <th>dt</th>\n",
       "      <th>AverageTemperature</th>\n",
       "      <th>AverageTemperatureUncertainty</th>\n",
       "      <th>Country</th>\n",
       "      <th>codes</th>\n",
       "    </tr>\n",
       "  </thead>\n",
       "  <tbody>\n",
       "    <tr>\n",
       "      <th>0</th>\n",
       "      <td>1743-11-01</td>\n",
       "      <td>4.384</td>\n",
       "      <td>2.294</td>\n",
       "      <td>Åland Islands</td>\n",
       "      <td>ALA</td>\n",
       "    </tr>\n",
       "    <tr>\n",
       "      <th>1</th>\n",
       "      <td>1743-12-01</td>\n",
       "      <td>NaN</td>\n",
       "      <td>NaN</td>\n",
       "      <td>Åland Islands</td>\n",
       "      <td>ALA</td>\n",
       "    </tr>\n",
       "    <tr>\n",
       "      <th>2</th>\n",
       "      <td>1744-01-01</td>\n",
       "      <td>NaN</td>\n",
       "      <td>NaN</td>\n",
       "      <td>Åland Islands</td>\n",
       "      <td>ALA</td>\n",
       "    </tr>\n",
       "    <tr>\n",
       "      <th>3</th>\n",
       "      <td>1744-02-01</td>\n",
       "      <td>NaN</td>\n",
       "      <td>NaN</td>\n",
       "      <td>Åland Islands</td>\n",
       "      <td>ALA</td>\n",
       "    </tr>\n",
       "    <tr>\n",
       "      <th>4</th>\n",
       "      <td>1744-03-01</td>\n",
       "      <td>NaN</td>\n",
       "      <td>NaN</td>\n",
       "      <td>Åland Islands</td>\n",
       "      <td>ALA</td>\n",
       "    </tr>\n",
       "  </tbody>\n",
       "</table>\n",
       "</div>"
      ],
      "text/plain": [
       "           dt  AverageTemperature  AverageTemperatureUncertainty   \n",
       "0  1743-11-01               4.384                          2.294  \\\n",
       "1  1743-12-01                 NaN                            NaN   \n",
       "2  1744-01-01                 NaN                            NaN   \n",
       "3  1744-02-01                 NaN                            NaN   \n",
       "4  1744-03-01                 NaN                            NaN   \n",
       "\n",
       "         Country codes  \n",
       "0  Åland Islands   ALA  \n",
       "1  Åland Islands   ALA  \n",
       "2  Åland Islands   ALA  \n",
       "3  Åland Islands   ALA  \n",
       "4  Åland Islands   ALA  "
      ]
     },
     "execution_count": 13,
     "metadata": {},
     "output_type": "execute_result"
    }
   ],
   "source": [
    "condition = (df['codes'] == 0)\n",
    "df = df[~condition]\n",
    "df.head()"
   ]
  },
  {
   "cell_type": "markdown",
   "metadata": {},
   "source": [
    "### We also do not need NA values"
   ]
  },
  {
   "cell_type": "code",
   "execution_count": 14,
   "metadata": {},
   "outputs": [
    {
     "data": {
      "text/html": [
       "<div>\n",
       "<style scoped>\n",
       "    .dataframe tbody tr th:only-of-type {\n",
       "        vertical-align: middle;\n",
       "    }\n",
       "\n",
       "    .dataframe tbody tr th {\n",
       "        vertical-align: top;\n",
       "    }\n",
       "\n",
       "    .dataframe thead th {\n",
       "        text-align: right;\n",
       "    }\n",
       "</style>\n",
       "<table border=\"1\" class=\"dataframe\">\n",
       "  <thead>\n",
       "    <tr style=\"text-align: right;\">\n",
       "      <th></th>\n",
       "      <th>dt</th>\n",
       "      <th>AverageTemperature</th>\n",
       "      <th>AverageTemperatureUncertainty</th>\n",
       "      <th>Country</th>\n",
       "      <th>codes</th>\n",
       "    </tr>\n",
       "  </thead>\n",
       "  <tbody>\n",
       "    <tr>\n",
       "      <th>0</th>\n",
       "      <td>1743-11-01</td>\n",
       "      <td>4.384</td>\n",
       "      <td>2.294</td>\n",
       "      <td>Åland Islands</td>\n",
       "      <td>ALA</td>\n",
       "    </tr>\n",
       "    <tr>\n",
       "      <th>5</th>\n",
       "      <td>1744-04-01</td>\n",
       "      <td>1.530</td>\n",
       "      <td>4.680</td>\n",
       "      <td>Åland Islands</td>\n",
       "      <td>ALA</td>\n",
       "    </tr>\n",
       "    <tr>\n",
       "      <th>6</th>\n",
       "      <td>1744-05-01</td>\n",
       "      <td>6.702</td>\n",
       "      <td>1.789</td>\n",
       "      <td>Åland Islands</td>\n",
       "      <td>ALA</td>\n",
       "    </tr>\n",
       "    <tr>\n",
       "      <th>7</th>\n",
       "      <td>1744-06-01</td>\n",
       "      <td>11.609</td>\n",
       "      <td>1.577</td>\n",
       "      <td>Åland Islands</td>\n",
       "      <td>ALA</td>\n",
       "    </tr>\n",
       "    <tr>\n",
       "      <th>8</th>\n",
       "      <td>1744-07-01</td>\n",
       "      <td>15.342</td>\n",
       "      <td>1.410</td>\n",
       "      <td>Åland Islands</td>\n",
       "      <td>ALA</td>\n",
       "    </tr>\n",
       "  </tbody>\n",
       "</table>\n",
       "</div>"
      ],
      "text/plain": [
       "           dt  AverageTemperature  AverageTemperatureUncertainty   \n",
       "0  1743-11-01               4.384                          2.294  \\\n",
       "5  1744-04-01               1.530                          4.680   \n",
       "6  1744-05-01               6.702                          1.789   \n",
       "7  1744-06-01              11.609                          1.577   \n",
       "8  1744-07-01              15.342                          1.410   \n",
       "\n",
       "         Country codes  \n",
       "0  Åland Islands   ALA  \n",
       "5  Åland Islands   ALA  \n",
       "6  Åland Islands   ALA  \n",
       "7  Åland Islands   ALA  \n",
       "8  Åland Islands   ALA  "
      ]
     },
     "execution_count": 14,
     "metadata": {},
     "output_type": "execute_result"
    }
   ],
   "source": [
    "df.dropna(inplace=True)\n",
    "df.head()"
   ]
  },
  {
   "cell_type": "markdown",
   "metadata": {},
   "source": [
    "### Average temperature for every country (all measurements included)"
   ]
  },
  {
   "cell_type": "code",
   "execution_count": 15,
   "metadata": {},
   "outputs": [],
   "source": [
    "average_temp = df.groupby('Country')['AverageTemperature'].mean().reset_index()\n",
    "for c in countries:\n",
    "    condition = (average_temp['Country'] == c.name)\n",
    "    average_temp.loc[condition, 'codes'] = c.alpha3\n"
   ]
  },
  {
   "cell_type": "code",
   "execution_count": 16,
   "metadata": {},
   "outputs": [
    {
     "data": {
      "text/html": [
       "<div>\n",
       "<style scoped>\n",
       "    .dataframe tbody tr th:only-of-type {\n",
       "        vertical-align: middle;\n",
       "    }\n",
       "\n",
       "    .dataframe tbody tr th {\n",
       "        vertical-align: top;\n",
       "    }\n",
       "\n",
       "    .dataframe thead th {\n",
       "        text-align: right;\n",
       "    }\n",
       "</style>\n",
       "<table border=\"1\" class=\"dataframe\">\n",
       "  <thead>\n",
       "    <tr style=\"text-align: right;\">\n",
       "      <th></th>\n",
       "      <th>Country</th>\n",
       "      <th>AverageTemperature</th>\n",
       "      <th>codes</th>\n",
       "    </tr>\n",
       "  </thead>\n",
       "  <tbody>\n",
       "    <tr>\n",
       "      <th>0</th>\n",
       "      <td>Afghanistan</td>\n",
       "      <td>14.045007</td>\n",
       "      <td>AFG</td>\n",
       "    </tr>\n",
       "    <tr>\n",
       "      <th>1</th>\n",
       "      <td>Albania</td>\n",
       "      <td>12.610646</td>\n",
       "      <td>ALB</td>\n",
       "    </tr>\n",
       "    <tr>\n",
       "      <th>2</th>\n",
       "      <td>Algeria</td>\n",
       "      <td>22.985112</td>\n",
       "      <td>DZA</td>\n",
       "    </tr>\n",
       "    <tr>\n",
       "      <th>3</th>\n",
       "      <td>American Samoa</td>\n",
       "      <td>26.611965</td>\n",
       "      <td>ASM</td>\n",
       "    </tr>\n",
       "    <tr>\n",
       "      <th>4</th>\n",
       "      <td>Andorra</td>\n",
       "      <td>11.201553</td>\n",
       "      <td>AND</td>\n",
       "    </tr>\n",
       "  </tbody>\n",
       "</table>\n",
       "</div>"
      ],
      "text/plain": [
       "          Country  AverageTemperature codes\n",
       "0     Afghanistan           14.045007   AFG\n",
       "1         Albania           12.610646   ALB\n",
       "2         Algeria           22.985112   DZA\n",
       "3  American Samoa           26.611965   ASM\n",
       "4         Andorra           11.201553   AND"
      ]
     },
     "execution_count": 16,
     "metadata": {},
     "output_type": "execute_result"
    }
   ],
   "source": [
    "average_temp.head()"
   ]
  },
  {
   "cell_type": "markdown",
   "metadata": {},
   "source": [
    "### Function used to make plots"
   ]
  },
  {
   "cell_type": "code",
   "execution_count": 18,
   "metadata": {},
   "outputs": [],
   "source": [
    "import plotly.graph_objects as go\n",
    "colorscale = [\"#00ccff\", \"#00ff08\", \"#fac505\", \"#fa0505\"]\n",
    "def ploter(df, colorbar_title, title_text):\n",
    "    fig = go.Figure(data=go.Choropleth(\n",
    "        locations = df['codes'],\n",
    "        z = df['AverageTemperature'],\n",
    "        text = df['Country'],\n",
    "        colorscale = colorscale,\n",
    "        autocolorscale=False,\n",
    "        reversescale=False,\n",
    "        marker_line_color='darkgray',\n",
    "        marker_line_width=0.5,\n",
    "        colorbar_ticksuffix = '°C',\n",
    "        colorbar_title = colorbar_title\n",
    "    ))\n",
    "\n",
    "    fig.update_layout(\n",
    "        title_text=title_text,\n",
    "        geo=dict(\n",
    "            showframe=True,\n",
    "            showcoastlines=True,\n",
    "            projection_type='equirectangular'\n",
    "        ),\n",
    "        annotations = [dict(\n",
    "            x=0.55,\n",
    "            y=0.1,\n",
    "            xref='paper',\n",
    "            yref='paper',\n",
    "            showarrow = True\n",
    "        )]\n",
    "\n",
    "    )\n",
    "\n",
    "    fig.show()"
   ]
  },
  {
   "cell_type": "code",
   "execution_count": 19,
   "metadata": {},
   "outputs": [],
   "source": [
    "ploter(average_temp,\"Average temperature\",\"Average temperatures on Earth since the 18th or 19th century\")"
   ]
  },
  {
   "cell_type": "markdown",
   "metadata": {},
   "source": [
    "## Here it is possible to check the temperature distribution for all 10 year intervals for a chosen country"
   ]
  },
  {
   "cell_type": "code",
   "execution_count": 25,
   "metadata": {},
   "outputs": [
    {
     "data": {
      "image/png": "[encoded data removed]",
      "text/plain": [
       "<Figure size 1000x600 with 1 Axes>"
      ]
     },
     "metadata": {},
     "output_type": "display_data"
    }
   ],
   "source": [
    "import warnings\n",
    "warnings.filterwarnings(\"ignore\")\n",
    "chosen_country = 'Afghanistan'\n",
    "\n",
    "country_data = df[df['Country'] == chosen_country]\n",
    "country_data['dt'] = pd.to_datetime(country_data['dt'])\n",
    "country_data['decade'] = country_data['dt'].dt.year//10*10\n",
    "\n",
    "grouped_data = country_data.groupby('decade')['AverageTemperature'].mean()\n",
    "#grouped_data = grouped_data.iloc[1:]\n",
    "plt.figure(figsize=(10, 6))\n",
    "plt.plot(grouped_data.index, grouped_data.values, marker='o', linestyle='-')\n",
    "plt.title(f'Average Temperature in {chosen_country} (10-Year Intervals)')\n",
    "plt.xlabel('Year')\n",
    "plt.ylabel('Average Temperature')\n",
    "plt.grid(True)\n",
    "plt.show()"
   ]
  },
  {
   "cell_type": "markdown",
   "metadata": {},
   "source": [
    "### Very weirdly looking, right? There is a lot of countries for which the first few measurements are suspicious. A lot of first observations could have been made only during the winter or summer, that is why the results from the first few years should not be taken into consideration "
   ]
  },
  {
   "cell_type": "markdown",
   "metadata": {},
   "source": [
    "### Calculating the difference in temperatures since the start of measuring, and also since the year 1900 will show us very different results"
   ]
  },
  {
   "cell_type": "code",
   "execution_count": 23,
   "metadata": {},
   "outputs": [],
   "source": [
    "\n",
    "differences = []\n",
    "differences_1900 = []\n",
    "for country in df[\"Country\"].unique():\n",
    "    country_data = df[df['Country'] == country]\n",
    "    country_data['dt'] = pd.to_datetime(country_data['dt'])\n",
    "    country_data['decade'] = country_data['dt'].dt.year // 10 * 10\n",
    "    country_data_1900 = country_data[country_data['decade'] >= 1900]\n",
    "    grouped_data = country_data.groupby('decade')['AverageTemperature'].mean()\n",
    "    grouped_data_1900 = country_data_1900.groupby('decade')['AverageTemperature'].mean()\n",
    "    #grouped_data = grouped_data.iloc[1:]\n",
    "    \n",
    "    difference = grouped_data.iloc[-1] - grouped_data.iloc[0]\n",
    "    difference_1900 = grouped_data_1900.iloc[-1] - grouped_data_1900.iloc[0]\n",
    "\n",
    "    country_code = df[df['Country'] == country]['codes'].iloc[0]\n",
    "    differences.append({'Country': country, 'codes': country_code, 'AverageTemperature': difference})\n",
    "    differences_1900.append({'Country': country, 'codes': country_code, 'AverageTemperature': difference_1900})\n",
    "\n",
    "diff_df = pd.DataFrame(differences)\n",
    "diff_df_1900 = pd.DataFrame(differences_1900)\n",
    "\n"
   ]
  },
  {
   "cell_type": "code",
   "execution_count": 26,
   "metadata": {},
   "outputs": [],
   "source": [
    "ploter(diff_df, \"Average temperature change\",\"Average temperature change since the 18th century, or later\")\n"
   ]
  },
  {
   "cell_type": "markdown",
   "metadata": {},
   "source": [
    "### Not the best looking"
   ]
  },
  {
   "cell_type": "code",
   "execution_count": 27,
   "metadata": {},
   "outputs": [],
   "source": [
    "ploter(diff_df_1900, \"Average temperature change\",\"Average temperature change since the year 1900\")"
   ]
  },
  {
   "cell_type": "markdown",
   "metadata": {},
   "source": [
    "### That is why, in the last plots only the data starting from year 1900 will be used (Plenty of countries did not start measurements earlier as well)"
   ]
  },
  {
   "cell_type": "code",
   "execution_count": 28,
   "metadata": {},
   "outputs": [],
   "source": [
    "df['dt'] = pd.to_datetime(df['dt'])\n",
    "df['decade'] = df['dt'].dt.year // 10 * 10\n"
   ]
  },
  {
   "cell_type": "code",
   "execution_count": 29,
   "metadata": {},
   "outputs": [
    {
     "data": {
      "image/png": "[encoded data removed]",
      "text/plain": [
       "<Figure size 1000x600 with 1 Axes>"
      ]
     },
     "metadata": {},
     "output_type": "display_data"
    }
   ],
   "source": [
    "\n",
    "overall_avg_temp = country_data.groupby('decade')['AverageTemperature'].mean()\n",
    "plt.figure(figsize=(10, 6))\n",
    "plt.plot(overall_avg_temp.index, overall_avg_temp, label='Overall Average', color='black', linestyle='--')\n",
    "plt.title('Average Temperature Trends by Decade')\n",
    "plt.xlabel('Decade')\n",
    "plt.ylabel('Average Temperature')\n",
    "plt.legend()\n",
    "plt.grid(True)\n",
    "plt.show()"
   ]
  },
  {
   "cell_type": "markdown",
   "metadata": {},
   "source": [
    "### And now, let's delete the first 10 years (useless)"
   ]
  },
  {
   "cell_type": "code",
   "execution_count": 36,
   "metadata": {},
   "outputs": [
    {
     "data": {
      "image/png": "[encoded data removed]",
      "text/plain": [
       "<Figure size 1000x600 with 1 Axes>"
      ]
     },
     "metadata": {},
     "output_type": "display_data"
    }
   ],
   "source": [
    "overall_avg_temp = overall_avg_temp.iloc[1:]\n",
    "plt.figure(figsize=(10, 6))\n",
    "plt.plot(overall_avg_temp.index, overall_avg_temp, label='Overall Average', color='black', linestyle='--')\n",
    "plt.title('Average Temperature Trends by Decade')\n",
    "plt.xlabel('Decade')\n",
    "plt.ylabel('Average Temperature')\n",
    "plt.legend()\n",
    "plt.grid(True)\n",
    "plt.show()"
   ]
  },
  {
   "cell_type": "markdown",
   "metadata": {},
   "source": [
    "### The temperature on Earth grows rapidly, especially since the year 1970"
   ]
  },
  {
   "cell_type": "code",
   "execution_count": 30,
   "metadata": {},
   "outputs": [
    {
     "data": {
      "text/html": [
       "<div>\n",
       "<style scoped>\n",
       "    .dataframe tbody tr th:only-of-type {\n",
       "        vertical-align: middle;\n",
       "    }\n",
       "\n",
       "    .dataframe tbody tr th {\n",
       "        vertical-align: top;\n",
       "    }\n",
       "\n",
       "    .dataframe thead th {\n",
       "        text-align: right;\n",
       "    }\n",
       "</style>\n",
       "<table border=\"1\" class=\"dataframe\">\n",
       "  <thead>\n",
       "    <tr style=\"text-align: right;\">\n",
       "      <th></th>\n",
       "      <th>dt</th>\n",
       "      <th>AverageTemperature</th>\n",
       "      <th>AverageTemperatureUncertainty</th>\n",
       "      <th>Country</th>\n",
       "      <th>codes</th>\n",
       "      <th>decade</th>\n",
       "    </tr>\n",
       "  </thead>\n",
       "  <tbody>\n",
       "    <tr>\n",
       "      <th>0</th>\n",
       "      <td>1743-11-01</td>\n",
       "      <td>4.384</td>\n",
       "      <td>2.294</td>\n",
       "      <td>Åland Islands</td>\n",
       "      <td>ALA</td>\n",
       "      <td>1740</td>\n",
       "    </tr>\n",
       "    <tr>\n",
       "      <th>5</th>\n",
       "      <td>1744-04-01</td>\n",
       "      <td>1.530</td>\n",
       "      <td>4.680</td>\n",
       "      <td>Åland Islands</td>\n",
       "      <td>ALA</td>\n",
       "      <td>1740</td>\n",
       "    </tr>\n",
       "    <tr>\n",
       "      <th>6</th>\n",
       "      <td>1744-05-01</td>\n",
       "      <td>6.702</td>\n",
       "      <td>1.789</td>\n",
       "      <td>Åland Islands</td>\n",
       "      <td>ALA</td>\n",
       "      <td>1740</td>\n",
       "    </tr>\n",
       "    <tr>\n",
       "      <th>7</th>\n",
       "      <td>1744-06-01</td>\n",
       "      <td>11.609</td>\n",
       "      <td>1.577</td>\n",
       "      <td>Åland Islands</td>\n",
       "      <td>ALA</td>\n",
       "      <td>1740</td>\n",
       "    </tr>\n",
       "    <tr>\n",
       "      <th>8</th>\n",
       "      <td>1744-07-01</td>\n",
       "      <td>15.342</td>\n",
       "      <td>1.410</td>\n",
       "      <td>Åland Islands</td>\n",
       "      <td>ALA</td>\n",
       "      <td>1740</td>\n",
       "    </tr>\n",
       "  </tbody>\n",
       "</table>\n",
       "</div>"
      ],
      "text/plain": [
       "          dt  AverageTemperature  AverageTemperatureUncertainty   \n",
       "0 1743-11-01               4.384                          2.294  \\\n",
       "5 1744-04-01               1.530                          4.680   \n",
       "6 1744-05-01               6.702                          1.789   \n",
       "7 1744-06-01              11.609                          1.577   \n",
       "8 1744-07-01              15.342                          1.410   \n",
       "\n",
       "         Country codes  decade  \n",
       "0  Åland Islands   ALA    1740  \n",
       "5  Åland Islands   ALA    1740  \n",
       "6  Åland Islands   ALA    1740  \n",
       "7  Åland Islands   ALA    1740  \n",
       "8  Åland Islands   ALA    1740  "
      ]
     },
     "execution_count": 30,
     "metadata": {},
     "output_type": "execute_result"
    }
   ],
   "source": [
    "df.head()"
   ]
  },
  {
   "cell_type": "markdown",
   "metadata": {},
   "source": [
    "### Plot that shows the distribution of temperatures for all 10-year time intervals in every country"
   ]
  },
  {
   "cell_type": "code",
   "execution_count": 32,
   "metadata": {},
   "outputs": [
    {
     "name": "stdout",
     "output_type": "stream",
     "text": [
      "Empty DataFrame\n",
      "Columns: [decade, Country, codes, AverageTemperature]\n",
      "Index: []\n"
     ]
    }
   ],
   "source": [
    "def plot_choropleth_with_slider(df):\n",
    "    decade_avg_temp = df.groupby(['decade', 'Country', 'codes'])['AverageTemperature'].mean().reset_index()\n",
    "    decade_avg_temp.loc[decade_avg_temp['Country'] == 'Türkiye', 'Country'] = 'Turkey'\n",
    "    fig = go.Figure()\n",
    "    for decade in decade_avg_temp['decade'].unique():\n",
    "        decade_data = decade_avg_temp[decade_avg_temp['decade'] == decade]\n",
    "        fig.add_trace(go.Choropleth(\n",
    "            locations=decade_data['Country'],\n",
    "            z=decade_data['AverageTemperature'],\n",
    "            locationmode='country names',\n",
    "            colorscale=colorscale,\n",
    "            colorbar_title='Average Temperature',\n",
    "            visible=False, \n",
    "            name=str(decade)  \n",
    "        ))\n",
    "    fig.data[0].visible = True\n",
    "    \n",
    "    steps = []\n",
    "    for i, decade in enumerate(decade_avg_temp['decade'].unique()):\n",
    "        step = dict(\n",
    "            label=f\"Decade {decade}\",\n",
    "            method='update',\n",
    "            args=[{'visible': [False] * len(fig.data)},  \n",
    "                  {'title': f'Average Temperatures by Country ({decade}s)'}],  \n",
    "        )\n",
    "        step['args'][0]['visible'][i] = True  \n",
    "        steps.append(step)\n",
    "\n",
    "    fig.update_layout(\n",
    "        title='Average Temperatures by Country',\n",
    "        geo=dict(\n",
    "            showframe=False,\n",
    "            projection_type='equirectangular'\n",
    "        ),\n",
    "        updatemenus=[{\n",
    "            'buttons': steps,\n",
    "            'direction': 'down',\n",
    "            'showactive': True,\n",
    "            'x': 0.5,\n",
    "            'y': 1.2\n",
    "        }]\n",
    "    )\n",
    "    print(decade_avg_temp[decade_avg_temp[\"Country\"]==\"Türkiye\"])\n",
    "    fig.show()\n",
    "plot_choropleth_with_slider(df)"
   ]
  },
  {
   "cell_type": "markdown",
   "metadata": {},
   "source": [
    "### Are there places/countries on earth that experience the global warming more severely?"
   ]
  },
  {
   "cell_type": "code",
   "execution_count": 33,
   "metadata": {},
   "outputs": [],
   "source": [
    "median = diff_df_1900['AverageTemperature'].median()\n",
    "q1 = diff_df_1900['AverageTemperature'].quantile(0.25)\n",
    "q2 = diff_df_1900['AverageTemperature'].quantile(0.5)\n",
    "q3 = diff_df_1900['AverageTemperature'].quantile(0.75)\n",
    "q1,q2,q3\n",
    "def categorize1(value):\n",
    "    if value <= q1:\n",
    "        return 0\n",
    "    elif q1 < value <= q2:\n",
    "        return 1\n",
    "    elif q2 < value <= q3:\n",
    "        return 2\n",
    "    return 3\n",
    "def categorize2(value):\n",
    "    if value < median:\n",
    "        return 0\n",
    "    return 1\n",
    "# Apply categorization to create a new column\n",
    "\n",
    "diff_df_1900['Quartile'] = diff_df_1900['AverageTemperature'].apply(categorize1)\n",
    "diff_df_1900['IsGreaterThanMedian'] = diff_df_1900['AverageTemperature'].apply(categorize2)"
   ]
  },
  {
   "cell_type": "code",
   "execution_count": 34,
   "metadata": {},
   "outputs": [
    {
     "data": {
      "text/html": [
       "<div>\n",
       "<style scoped>\n",
       "    .dataframe tbody tr th:only-of-type {\n",
       "        vertical-align: middle;\n",
       "    }\n",
       "\n",
       "    .dataframe tbody tr th {\n",
       "        vertical-align: top;\n",
       "    }\n",
       "\n",
       "    .dataframe thead th {\n",
       "        text-align: right;\n",
       "    }\n",
       "</style>\n",
       "<table border=\"1\" class=\"dataframe\">\n",
       "  <thead>\n",
       "    <tr style=\"text-align: right;\">\n",
       "      <th></th>\n",
       "      <th>Country</th>\n",
       "      <th>codes</th>\n",
       "      <th>AverageTemperature</th>\n",
       "      <th>Quartile</th>\n",
       "      <th>IsGreaterThanMedian</th>\n",
       "    </tr>\n",
       "  </thead>\n",
       "  <tbody>\n",
       "    <tr>\n",
       "      <th>0</th>\n",
       "      <td>Åland Islands</td>\n",
       "      <td>ALA</td>\n",
       "      <td>1.065714</td>\n",
       "      <td>1</td>\n",
       "      <td>0</td>\n",
       "    </tr>\n",
       "    <tr>\n",
       "      <th>1</th>\n",
       "      <td>Afghanistan</td>\n",
       "      <td>AFG</td>\n",
       "      <td>1.785786</td>\n",
       "      <td>3</td>\n",
       "      <td>1</td>\n",
       "    </tr>\n",
       "    <tr>\n",
       "      <th>2</th>\n",
       "      <td>Albania</td>\n",
       "      <td>ALB</td>\n",
       "      <td>1.459576</td>\n",
       "      <td>2</td>\n",
       "      <td>1</td>\n",
       "    </tr>\n",
       "    <tr>\n",
       "      <th>3</th>\n",
       "      <td>Algeria</td>\n",
       "      <td>DZA</td>\n",
       "      <td>1.914388</td>\n",
       "      <td>3</td>\n",
       "      <td>1</td>\n",
       "    </tr>\n",
       "    <tr>\n",
       "      <th>4</th>\n",
       "      <td>American Samoa</td>\n",
       "      <td>ASM</td>\n",
       "      <td>1.101669</td>\n",
       "      <td>1</td>\n",
       "      <td>0</td>\n",
       "    </tr>\n",
       "  </tbody>\n",
       "</table>\n",
       "</div>"
      ],
      "text/plain": [
       "          Country codes  AverageTemperature  Quartile  IsGreaterThanMedian\n",
       "0   Åland Islands   ALA            1.065714         1                    0\n",
       "1     Afghanistan   AFG            1.785786         3                    1\n",
       "2         Albania   ALB            1.459576         2                    1\n",
       "3         Algeria   DZA            1.914388         3                    1\n",
       "4  American Samoa   ASM            1.101669         1                    0"
      ]
     },
     "execution_count": 34,
     "metadata": {},
     "output_type": "execute_result"
    }
   ],
   "source": [
    "diff_df_1900.head()"
   ]
  },
  {
   "cell_type": "code",
   "execution_count": 35,
   "metadata": {},
   "outputs": [],
   "source": [
    "colorscale2 = [\"#c3ff00\", \"#fffb00\", \"#ff6600\", \"#fa0505\"]\n",
    "fig = go.Figure(data=go.Choropleth(\n",
    "    locations = diff_df_1900['codes'],\n",
    "    z = diff_df_1900['IsGreaterThanMedian'],\n",
    "    text = diff_df_1900['Country'],\n",
    "    colorscale = colorscale2,\n",
    "    autocolorscale=False,\n",
    "    reversescale=False,\n",
    "    marker_line_color='darkgray',\n",
    "    marker_line_width=0.5,\n",
    "    colorbar_title = 'Is the change bigger than median?',\n",
    "))\n",
    "\n",
    "fig.update_layout(\n",
    "    title_text='Is the change in average temperature since 1900 bigger or smaller than median? (YES - 1, NO - 0)',\n",
    "    geo=dict(\n",
    "        showframe=True,\n",
    "        showcoastlines=True,\n",
    "        projection_type='equirectangular'\n",
    "    ),\n",
    "    annotations = [dict(\n",
    "        x=0.55,\n",
    "        y=0.1,\n",
    "        xref='paper',\n",
    "        yref='paper',\n",
    "        showarrow = True\n",
    "    )]\n",
    ")\n",
    "\n",
    "fig.show()"
   ]
  },
  {
   "cell_type": "code",
   "execution_count": 39,
   "metadata": {},
   "outputs": [],
   "source": [
    "\n",
    "fig = go.Figure(data=go.Choropleth(\n",
    "    locations = diff_df_1900['codes'],\n",
    "    z = diff_df_1900['Quartile'],\n",
    "    text = diff_df_1900['Country'],\n",
    "    colorscale = colorscale2,\n",
    "    autocolorscale=False,\n",
    "    reversescale=False,\n",
    "    marker_line_color='darkgray',\n",
    "    marker_line_width=0.5,\n",
    "    colorbar_title = 'How quickly does the temperature change?',\n",
    "))\n",
    "\n",
    "fig.update_layout(\n",
    "    title_text='How quickly does the temperature change (in which \"quartile of warming the coutry is\")?',\n",
    "    geo=dict(\n",
    "        showframe=True,\n",
    "        showcoastlines=True,\n",
    "        projection_type='equirectangular'\n",
    "    ),\n",
    "    annotations = [dict(\n",
    "        x=0.55,\n",
    "        y=0.1,\n",
    "        xref='paper',\n",
    "        yref='paper',\n",
    "        showarrow = True\n",
    "    )]\n",
    ")\n",
    "\n",
    "fig.show()"
   ]
  }
 ],
 "metadata": {
  "kernelspec": {
   "display_name": "Python 3",
   "language": "python",
   "name": "python3"
  },
  "language_info": {
   "codemirror_mode": {
    "name": "ipython",
    "version": 3
   },
   "file_extension": ".py",
   "mimetype": "text/x-python",
   "name": "python",
   "nbconvert_exporter": "python",
   "pygments_lexer": "ipython3",
   "version": "3.11.8"
  }
 },
 "nbformat": 4,
 "nbformat_minor": 2
}
